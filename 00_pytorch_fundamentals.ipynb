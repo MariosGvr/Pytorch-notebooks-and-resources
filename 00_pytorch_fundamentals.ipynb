{
  "nbformat": 4,
  "nbformat_minor": 0,
  "metadata": {
    "colab": {
      "provenance": [],
      "authorship_tag": "ABX9TyPwN2Wj1uzN4d0JOEbncWu/",
      "include_colab_link": true
    },
    "kernelspec": {
      "name": "python3",
      "display_name": "Python 3"
    },
    "language_info": {
      "name": "python"
    },
    "gpuClass": "standard",
    "accelerator": "GPU"
  },
  "cells": [
    {
      "cell_type": "markdown",
      "metadata": {
        "id": "view-in-github",
        "colab_type": "text"
      },
      "source": [
        "<a href=\"https://colab.research.google.com/github/MariosGvr/Pytorch-notebooks-and-resources/blob/main/00_pytorch_fundamentals.ipynb\" target=\"_parent\"><img src=\"https://colab.research.google.com/assets/colab-badge.svg\" alt=\"Open In Colab\"/></a>"
      ]
    },
    {
      "cell_type": "markdown",
      "source": [
        "## 00. Pytorch Fundamentals\n",
        "\n",
        "Book resource: https://www.learnpytorch.io/00_pytorch_fundamentals/"
      ],
      "metadata": {
        "id": "PFg-4k3qejt2"
      }
    },
    {
      "cell_type": "code",
      "source": [
        "# torch is pre-installed in colab\n",
        "import torch\n",
        "import pandas as pd\n",
        "import numpy as np\n",
        "import matplotlib.pyplot as plt\n",
        "print(torch.__version__)"
      ],
      "metadata": {
        "colab": {
          "base_uri": "https://localhost:8080/"
        },
        "id": "UDFX5QEueXsH",
        "outputId": "0293f503-0028-4f65-ce84-25274af513c9"
      },
      "execution_count": 1,
      "outputs": [
        {
          "output_type": "stream",
          "name": "stdout",
          "text": [
            "1.12.1+cu113\n"
          ]
        }
      ]
    },
    {
      "cell_type": "markdown",
      "source": [
        "## Introduction to tensors\n"
      ],
      "metadata": {
        "id": "dhJO3-t6uykg"
      }
    },
    {
      "cell_type": "markdown",
      "source": [
        "\n",
        "### Creating tensors\n",
        "\n",
        "Doc: https://pytorch.org/docs/stable/tensors.html"
      ],
      "metadata": {
        "id": "g8ViG6Vez3wz"
      }
    },
    {
      "cell_type": "code",
      "source": [
        "# Scalar\n",
        "scalar = torch.tensor(7)\n",
        "print('scalar:', scalar)\n",
        "print('scalar.ndim:', scalar.ndim)\n",
        "# get tensor as python int\n",
        "print('scalar.item():', scalar.item())"
      ],
      "metadata": {
        "id": "BM0vJpfHfEdZ",
        "colab": {
          "base_uri": "https://localhost:8080/"
        },
        "outputId": "3b8729c3-dc8a-4100-9314-efc60f4d6a6f"
      },
      "execution_count": null,
      "outputs": [
        {
          "output_type": "stream",
          "name": "stdout",
          "text": [
            "scalar: tensor(7)\n",
            "scalar.ndim: 0\n",
            "scalar.item(): 7\n"
          ]
        }
      ]
    },
    {
      "cell_type": "code",
      "source": [
        "# Vector\n",
        "vector = torch.tensor([7,7])\n",
        "print('vector:', vector)\n",
        "print('vector.ndim:', vector.ndim)\n",
        "print('vector.shape:', vector.shape)"
      ],
      "metadata": {
        "colab": {
          "base_uri": "https://localhost:8080/"
        },
        "id": "XFKRFG6tvw9P",
        "outputId": "07e2d99f-ae59-4849-d4e2-74746d27d1ec"
      },
      "execution_count": null,
      "outputs": [
        {
          "output_type": "stream",
          "name": "stdout",
          "text": [
            "vector: tensor([7, 7])\n",
            "vector.ndim: 1\n",
            "vector.shape: torch.Size([2])\n"
          ]
        }
      ]
    },
    {
      "cell_type": "code",
      "source": [
        "# MATRIX\n",
        "MATRIX = torch.tensor([[7,8],\n",
        "                       [9,10]])\n",
        "print('MATRIX:', MATRIX)\n",
        "print('MATRIX.ndim:', MATRIX.ndim)\n",
        "print('MATRIX.shape:', MATRIX.shape)"
      ],
      "metadata": {
        "colab": {
          "base_uri": "https://localhost:8080/"
        },
        "id": "CmhFA8MAv3J6",
        "outputId": "ad858913-9727-44b0-e8e3-54e158131fe1"
      },
      "execution_count": null,
      "outputs": [
        {
          "output_type": "stream",
          "name": "stdout",
          "text": [
            "MATRIX: tensor([[ 7,  8],\n",
            "        [ 9, 10]])\n",
            "MATRIX.ndim: 2\n",
            "MATRIX.shape: torch.Size([2, 2])\n"
          ]
        }
      ]
    },
    {
      "cell_type": "code",
      "source": [
        "# TENSOR\n",
        "TENSOR = torch.tensor([[[1,2,3],\n",
        "                        [3,6,9],\n",
        "                        [7,8,9]]])\n",
        "print('TENSOR:', TENSOR)\n",
        "print('TENSOR.ndim:', TENSOR.ndim)\n",
        "print('TENSOR.shape:', TENSOR.shape)\n",
        "\n",
        "TENSOR = torch.tensor([\n",
        "                        [[[1,2,3,5],\n",
        "                        [3,6,9,5],\n",
        "                        [7,8,9,5]],\n",
        "                       [[1,2,3,5],\n",
        "                        [3,6,9,5],\n",
        "                        [7,8,9,5]],\n",
        "                       [[1,2,3,5],\n",
        "                        [3,6,9,5],\n",
        "                        [7,8,9,5]],\n",
        "                       [[1,2,3,5],\n",
        "                        [3,6,9,5],\n",
        "                        [7,8,9,5]]],\n",
        "\n",
        "                       [[[1,2,3,5],\n",
        "                        [3,6,9,5],\n",
        "                        [7,8,9,5]],\n",
        "                       [[1,2,3,5],\n",
        "                        [3,6,9,5],\n",
        "                        [7,8,9,5]],\n",
        "                       [[1,2,3,5],\n",
        "                        [3,6,9,5],\n",
        "                        [7,8,9,5]],\n",
        "                       [[1,2,3,5],\n",
        "                        [3,6,9,5],\n",
        "                        [7,8,9,5]]]\n",
        "                        ])\n",
        "\n",
        "print('TENSOR:', TENSOR)\n",
        "print('TENSOR.ndim:', TENSOR.ndim)\n",
        "print('TENSOR.shape:', TENSOR.shape)"
      ],
      "metadata": {
        "colab": {
          "base_uri": "https://localhost:8080/"
        },
        "id": "jeXLdplfwwiT",
        "outputId": "cf3422a0-a753-4b7c-ad55-6e71ede05a0c"
      },
      "execution_count": null,
      "outputs": [
        {
          "output_type": "stream",
          "name": "stdout",
          "text": [
            "TENSOR: tensor([[[1, 2, 3],\n",
            "         [3, 6, 9],\n",
            "         [7, 8, 9]]])\n",
            "TENSOR.ndim: 3\n",
            "TENSOR.shape: torch.Size([1, 3, 3])\n",
            "TENSOR: tensor([[[[1, 2, 3, 5],\n",
            "          [3, 6, 9, 5],\n",
            "          [7, 8, 9, 5]],\n",
            "\n",
            "         [[1, 2, 3, 5],\n",
            "          [3, 6, 9, 5],\n",
            "          [7, 8, 9, 5]],\n",
            "\n",
            "         [[1, 2, 3, 5],\n",
            "          [3, 6, 9, 5],\n",
            "          [7, 8, 9, 5]],\n",
            "\n",
            "         [[1, 2, 3, 5],\n",
            "          [3, 6, 9, 5],\n",
            "          [7, 8, 9, 5]]],\n",
            "\n",
            "\n",
            "        [[[1, 2, 3, 5],\n",
            "          [3, 6, 9, 5],\n",
            "          [7, 8, 9, 5]],\n",
            "\n",
            "         [[1, 2, 3, 5],\n",
            "          [3, 6, 9, 5],\n",
            "          [7, 8, 9, 5]],\n",
            "\n",
            "         [[1, 2, 3, 5],\n",
            "          [3, 6, 9, 5],\n",
            "          [7, 8, 9, 5]],\n",
            "\n",
            "         [[1, 2, 3, 5],\n",
            "          [3, 6, 9, 5],\n",
            "          [7, 8, 9, 5]]]])\n",
            "TENSOR.ndim: 4\n",
            "TENSOR.shape: torch.Size([2, 4, 3, 4])\n"
          ]
        }
      ]
    },
    {
      "cell_type": "markdown",
      "source": [
        "### Random tensors\n",
        "\n",
        "Random tesnors are important because many NN learn by starting with tensors full of random numbers and then adjust those random numbers to better represent the data.\n",
        "\n",
        "`Start with random numbers -> look at data -> update random numbers -> look at data -> update random numbers`\n",
        "\n",
        "Doc: https://pytorch.org/docs/stable/generated/torch.rand.html"
      ],
      "metadata": {
        "id": "Z42f7hN2z6J5"
      }
    },
    {
      "cell_type": "code",
      "source": [
        "# Create random tensor of shape/size (3,4)\n",
        "random_tensor = torch.rand(3,4)\n",
        "print('random_tensor:\\n', random_tensor)\n",
        "print('random_tensor.ndim:', random_tensor.ndim)\n",
        "print('random_tensor.shape:', random_tensor.shape)"
      ],
      "metadata": {
        "colab": {
          "base_uri": "https://localhost:8080/"
        },
        "id": "ISjrw1AjyGYc",
        "outputId": "a8e4085e-8d72-4fe7-cb44-efc4f020b794"
      },
      "execution_count": null,
      "outputs": [
        {
          "output_type": "stream",
          "name": "stdout",
          "text": [
            "random_tensor:\n",
            " tensor([[0.9459, 0.2145, 0.5711, 0.7303],\n",
            "        [0.8788, 0.5958, 0.8025, 0.2095],\n",
            "        [0.9561, 0.2893, 0.7304, 0.9732]])\n",
            "random_tensor.ndim: 2\n",
            "random_tensor.shape: torch.Size([3, 4])\n"
          ]
        }
      ]
    },
    {
      "cell_type": "code",
      "source": [
        "# Create a random tensor with similar shape to an image tensor\n",
        "random_image_size_tensor = torch.rand(size=(3,224,224)) #colour channel, height, width \n",
        "                          #torch.rand(3,224,224)\n",
        "random_image_size_tensor.shape, random_image_size_tensor.ndim"
      ],
      "metadata": {
        "colab": {
          "base_uri": "https://localhost:8080/"
        },
        "id": "BDYT0KHm02Us",
        "outputId": "58fd12c4-8816-43af-a353-e6d7abbfa8f1"
      },
      "execution_count": null,
      "outputs": [
        {
          "output_type": "execute_result",
          "data": {
            "text/plain": [
              "(torch.Size([3, 224, 224]), 3)"
            ]
          },
          "metadata": {},
          "execution_count": 30
        }
      ]
    },
    {
      "cell_type": "markdown",
      "source": [
        "### Zeros and ones"
      ],
      "metadata": {
        "id": "-CD4sSktFwmG"
      }
    },
    {
      "cell_type": "code",
      "source": [
        "# Create a tensor of all zeros\n",
        "zeros = torch.zeros(size=(3,4))\n",
        "# Create a tensor of all ones\n",
        "ones = torch.ones(size=(3,4))\n",
        "ones.dtype"
      ],
      "metadata": {
        "colab": {
          "base_uri": "https://localhost:8080/"
        },
        "id": "jr3Ps3ht2uPR",
        "outputId": "fe427e0e-af71-4b6f-b042-28f30f06ca9b"
      },
      "execution_count": null,
      "outputs": [
        {
          "output_type": "execute_result",
          "data": {
            "text/plain": [
              "torch.float32"
            ]
          },
          "metadata": {},
          "execution_count": 37
        }
      ]
    },
    {
      "cell_type": "markdown",
      "source": [
        "### Creating a range of tensors and tensors-like\n",
        "\n",
        "Doc: https://pytorch.org/docs/stable/generated/torch.arange.html"
      ],
      "metadata": {
        "id": "iC-DSw1OGZLw"
      }
    },
    {
      "cell_type": "code",
      "source": [
        "# Use torch.arange()\n",
        "one_to_ten = torch.arange(1,11)\n",
        "print('one_to_ten:', one_to_ten)\n",
        "\n",
        "zero_to_1000 = torch.arange(start=0, end=1000, step=42)\n",
        "print('zero_to_1000:', zero_to_1000)"
      ],
      "metadata": {
        "colab": {
          "base_uri": "https://localhost:8080/"
        },
        "id": "LZrCBFB45bj1",
        "outputId": "3eb71f8e-a26f-40aa-8cd6-6a705bb78c04"
      },
      "execution_count": null,
      "outputs": [
        {
          "output_type": "stream",
          "name": "stdout",
          "text": [
            "one_to_ten: tensor([ 1,  2,  3,  4,  5,  6,  7,  8,  9, 10])\n",
            "zero_to_1000: tensor([  0,  42,  84, 126, 168, 210, 252, 294, 336, 378, 420, 462, 504, 546,\n",
            "        588, 630, 672, 714, 756, 798, 840, 882, 924, 966])\n"
          ]
        }
      ]
    },
    {
      "cell_type": "code",
      "source": [
        "# Creating tensors like\n",
        "ten_zeroes = torch.zeros_like(input=one_to_ten)\n",
        "ten_zeroes"
      ],
      "metadata": {
        "colab": {
          "base_uri": "https://localhost:8080/"
        },
        "id": "5iXTZzXuF9E8",
        "outputId": "54b5e2f7-8403-4e72-989e-2fbfa6192b3a"
      },
      "execution_count": null,
      "outputs": [
        {
          "output_type": "execute_result",
          "data": {
            "text/plain": [
              "tensor([0, 0, 0, 0, 0, 0, 0, 0, 0, 0])"
            ]
          },
          "metadata": {},
          "execution_count": 41
        }
      ]
    },
    {
      "cell_type": "markdown",
      "source": [
        "### Tensor datatypes\n",
        "\n",
        "**Note:** Tensor datatype is one of the 3 big errors you will run into with PyTorch & deep learning\n",
        "\n",
        "1. Tensors not right datatype\n",
        "1. Tensors not right shape\n",
        "1. Tensors not on the right device"
      ],
      "metadata": {
        "id": "mBG_B_XjHquz"
      }
    },
    {
      "cell_type": "code",
      "source": [
        "# Float 32 tensor\n",
        "float_32_tensor = torch.tensor([3., 6., 9.], dtype=None)\n",
        "print('float_32_tensor:', float_32_tensor)\n",
        "print('float_32_tensor.dtype:', float_32_tensor.dtype) #default dtype = float32"
      ],
      "metadata": {
        "colab": {
          "base_uri": "https://localhost:8080/"
        },
        "id": "cIB4ndYEHUZR",
        "outputId": "ed12e93b-94cc-4cdf-9046-8a96c57cd21f"
      },
      "execution_count": null,
      "outputs": [
        {
          "output_type": "stream",
          "name": "stdout",
          "text": [
            "float_32_tensor: tensor([3., 6., 9.])\n",
            "float_32_tensor.dtype: torch.float32\n"
          ]
        }
      ]
    },
    {
      "cell_type": "code",
      "source": [
        "# Float 16 tensor\n",
        "float_16_tensor = torch.tensor([3., 6., 9.], dtype=torch.float16)\n",
        "print('float_16_tensor:', float_16_tensor)\n",
        "print('float_16_tensor.dtype:', float_16_tensor.dtype)"
      ],
      "metadata": {
        "colab": {
          "base_uri": "https://localhost:8080/"
        },
        "id": "i2mBAMofH5D9",
        "outputId": "e2895ad3-a2cc-44f5-a96a-a998e54a0a4f"
      },
      "execution_count": null,
      "outputs": [
        {
          "output_type": "stream",
          "name": "stdout",
          "text": [
            "float_16_tensor: tensor([3., 6., 9.], dtype=torch.float16)\n",
            "float_16_tensor.dtype: torch.float16\n"
          ]
        }
      ]
    },
    {
      "cell_type": "code",
      "source": [
        "# Float 32 tensor - The most important parameters when creating tensors\n",
        "float_32_tensor = torch.tensor([3., 6., 9.], \n",
        "                               dtype=None, # What data type is the tensors, Default=float32 (https://pytorch.org/docs/stable/tensors.html#data-types)\n",
        "                               device=None, # What device is your tensor on, Default: 'cpu', change to 'cuda'\n",
        "                               requires_grad=False) # When we want pytorch to track gradients\n",
        "print('float_32_tensor:', float_32_tensor)\n",
        "print('float_32_tensor.dtype:', float_32_tensor.dtype) #default dtype = float32"
      ],
      "metadata": {
        "colab": {
          "base_uri": "https://localhost:8080/"
        },
        "id": "cSCo9WUWIV6S",
        "outputId": "c2213743-282b-4c76-a9b7-5ea4489999bf"
      },
      "execution_count": null,
      "outputs": [
        {
          "output_type": "stream",
          "name": "stdout",
          "text": [
            "float_32_tensor: tensor([3., 6., 9.])\n",
            "float_32_tensor.dtype: torch.float32\n"
          ]
        }
      ]
    },
    {
      "cell_type": "code",
      "source": [
        "float_16_tensor = float_32_tensor.type(torch.float16)\n",
        "# or\n",
        "float_16_tensor = float_32_tensor.type(torch.half)"
      ],
      "metadata": {
        "id": "oDmVwXJ_Ie7n"
      },
      "execution_count": null,
      "outputs": []
    },
    {
      "cell_type": "code",
      "source": [
        "float_16_tensor"
      ],
      "metadata": {
        "colab": {
          "base_uri": "https://localhost:8080/"
        },
        "id": "0AX6kF5DLOOZ",
        "outputId": "429430cf-678f-4644-a061-a5a1e02b70e7"
      },
      "execution_count": null,
      "outputs": [
        {
          "output_type": "execute_result",
          "data": {
            "text/plain": [
              "tensor([3., 6., 9.], dtype=torch.float16)"
            ]
          },
          "metadata": {},
          "execution_count": 54
        }
      ]
    },
    {
      "cell_type": "code",
      "source": [
        "float_32_tensor"
      ],
      "metadata": {
        "colab": {
          "base_uri": "https://localhost:8080/"
        },
        "id": "mEvumE8jLPYb",
        "outputId": "286069c8-5193-47c6-844c-d8696832402a"
      },
      "execution_count": null,
      "outputs": [
        {
          "output_type": "execute_result",
          "data": {
            "text/plain": [
              "tensor([3., 6., 9.])"
            ]
          },
          "metadata": {},
          "execution_count": 55
        }
      ]
    },
    {
      "cell_type": "code",
      "source": [
        "float_16_tensor * float_32_tensor"
      ],
      "metadata": {
        "colab": {
          "base_uri": "https://localhost:8080/"
        },
        "id": "-HXMACMiK0rS",
        "outputId": "d3619916-e88d-44be-851b-b6e0e6beaec4"
      },
      "execution_count": null,
      "outputs": [
        {
          "output_type": "execute_result",
          "data": {
            "text/plain": [
              "tensor([ 9., 36., 81.])"
            ]
          },
          "metadata": {},
          "execution_count": 56
        }
      ]
    },
    {
      "cell_type": "code",
      "source": [
        "int_32_tensor = torch.tensor([3, 6, 9], dtype=torch.int32)\n",
        "int_32_tensor * float_32_tensor"
      ],
      "metadata": {
        "id": "D9qyb2B7LS-r"
      },
      "execution_count": null,
      "outputs": []
    },
    {
      "cell_type": "markdown",
      "source": [
        "### Getting attributes from tensors\n",
        "\n",
        "1. Tensors not right datatype - to get datatype from tensors can use `tensor.dtype`\n",
        "1. Tensors not right shape - to get shape from tensors can use `tensor.shape`\n",
        "1. Tensors not on the right device - to get device from tensors can use `tensor.device`"
      ],
      "metadata": {
        "id": "mFp891WtMY4a"
      }
    },
    {
      "cell_type": "code",
      "source": [
        "# Create a tensor\n",
        "some_tensor = torch.rand(3,4)\n",
        "some_tensor"
      ],
      "metadata": {
        "colab": {
          "base_uri": "https://localhost:8080/"
        },
        "id": "-YqZIC5SLtkD",
        "outputId": "3aeff813-b9ff-43e6-eed0-b5ac27eadc5c"
      },
      "execution_count": null,
      "outputs": [
        {
          "output_type": "execute_result",
          "data": {
            "text/plain": [
              "tensor([[0.2733, 0.0283, 0.3842, 0.5301],\n",
              "        [0.9077, 0.1722, 0.6022, 0.6761],\n",
              "        [0.9014, 0.2610, 0.9806, 0.1463]])"
            ]
          },
          "metadata": {},
          "execution_count": 60
        }
      ]
    },
    {
      "cell_type": "code",
      "source": [
        "# Find out attributes about some_tensor\n",
        "print(f'Datatype of tensor: {some_tensor.dtype}')\n",
        "print(f'Shape of tensor: {some_tensor.shape}')\n",
        "print(f'Device tensor is on: {some_tensor.device}')"
      ],
      "metadata": {
        "colab": {
          "base_uri": "https://localhost:8080/"
        },
        "id": "-Gmn3bQlMxzf",
        "outputId": "967f1ab3-293b-42ea-dcc7-a68dcc84908b"
      },
      "execution_count": null,
      "outputs": [
        {
          "output_type": "stream",
          "name": "stdout",
          "text": [
            "Datatype of tensor: torch.float32\n",
            "Shape of tensor: torch.Size([3, 4])\n",
            "Device of devtensorice: cpu\n"
          ]
        }
      ]
    },
    {
      "cell_type": "markdown",
      "source": [
        "### Manipulating tensors - Tensors operations\n",
        "\n",
        "Tensor operation include\n",
        "* Addition\n",
        "* Subtraction\n",
        "* Multiplication (element-wise)\n",
        "* Division\n",
        "* Matrix multiplication"
      ],
      "metadata": {
        "id": "mY8qrEtfOKIL"
      }
    },
    {
      "cell_type": "code",
      "source": [
        "# Create a tensor\n",
        "tensor = torch.tensor([1,2,3])\n",
        "tensor + 10"
      ],
      "metadata": {
        "colab": {
          "base_uri": "https://localhost:8080/"
        },
        "id": "hnZ1aFJpNK5-",
        "outputId": "267789a0-0647-4536-ccfe-db5e916f375a"
      },
      "execution_count": null,
      "outputs": [
        {
          "output_type": "execute_result",
          "data": {
            "text/plain": [
              "tensor([11, 12, 13])"
            ]
          },
          "metadata": {},
          "execution_count": 5
        }
      ]
    },
    {
      "cell_type": "code",
      "source": [
        "# Multiply tensor by 10\n",
        "tensor * 10"
      ],
      "metadata": {
        "colab": {
          "base_uri": "https://localhost:8080/"
        },
        "id": "I4ldzwawOqPS",
        "outputId": "69ae5e06-1560-43eb-e5f3-7beda7403121"
      },
      "execution_count": null,
      "outputs": [
        {
          "output_type": "execute_result",
          "data": {
            "text/plain": [
              "tensor([10, 20, 30])"
            ]
          },
          "metadata": {},
          "execution_count": 6
        }
      ]
    },
    {
      "cell_type": "code",
      "source": [
        "# Subtract 10\n",
        "tensor - 10"
      ],
      "metadata": {
        "colab": {
          "base_uri": "https://localhost:8080/"
        },
        "id": "DO-BNrhPOyoR",
        "outputId": "baf4d033-d77f-480c-9d29-93ac588f6002"
      },
      "execution_count": null,
      "outputs": [
        {
          "output_type": "execute_result",
          "data": {
            "text/plain": [
              "tensor([-9, -8, -7])"
            ]
          },
          "metadata": {},
          "execution_count": 7
        }
      ]
    },
    {
      "cell_type": "code",
      "source": [
        "# Try out PyTorch in-built functions\n",
        "torch.mul(tensor, 10)"
      ],
      "metadata": {
        "id": "1FZkC7GbO_or",
        "colab": {
          "base_uri": "https://localhost:8080/"
        },
        "outputId": "8e5a2b5c-432d-408e-f8dd-f145207ed6ec"
      },
      "execution_count": null,
      "outputs": [
        {
          "output_type": "execute_result",
          "data": {
            "text/plain": [
              "tensor([10, 20, 30])"
            ]
          },
          "metadata": {},
          "execution_count": 8
        }
      ]
    },
    {
      "cell_type": "markdown",
      "source": [
        "### Matrix Multiplication\n",
        "\n",
        "Two main ways of performing multiplication in NNs and DL:\n",
        "1. Element-wise multiplication\n",
        "1. Matrix Multiplication (dot product)\n",
        "\n",
        "\n",
        "There are two rules that performing Matrix Multiplication needs to satisfy:\n",
        "1. The **inner dimensions** must match:\n",
        "    * `(3,2) @ (3,5)` won't work\n",
        "    * `(3,2) @ (2,5)` will work\n",
        "\n",
        "1. The resulting matrix has the shape of the **outer dimensions**:\n",
        "    * `(3,2) @ (2,5)` -> `(3,5)`\n",
        "    * `(9,7) @ (7,2)` -> `(9,2)`"
      ],
      "metadata": {
        "id": "jPZaVoQLKwYA"
      }
    },
    {
      "cell_type": "code",
      "source": [
        "# Element wise multiplication\n",
        "print(tensor, \"*\", tensor, end=\" = \")\n",
        "print(tensor * tensor)"
      ],
      "metadata": {
        "colab": {
          "base_uri": "https://localhost:8080/"
        },
        "id": "UavCh7-AKvZO",
        "outputId": "d2167712-a458-41d4-b601-5d2b703df5c4"
      },
      "execution_count": null,
      "outputs": [
        {
          "output_type": "stream",
          "name": "stdout",
          "text": [
            "tensor([1, 2, 3]) * tensor([1, 2, 3]) = tensor([1, 4, 9])\n"
          ]
        }
      ]
    },
    {
      "cell_type": "code",
      "source": [
        "# Matrix multiplication\n",
        "print(tensor, \"@\", tensor, end=\" = \")\n",
        "print(torch.matmul(tensor, tensor))"
      ],
      "metadata": {
        "colab": {
          "base_uri": "https://localhost:8080/"
        },
        "id": "6FB-jHB6MFPO",
        "outputId": "28ba68cc-98fe-4976-aa3a-4ab9af4da60f"
      },
      "execution_count": null,
      "outputs": [
        {
          "output_type": "stream",
          "name": "stdout",
          "text": [
            "tensor([1, 2, 3]) @ tensor([1, 2, 3]) = tensor(14)\n"
          ]
        }
      ]
    },
    {
      "cell_type": "code",
      "source": [
        "%%time\n",
        "torch.matmul(tensor, tensor)"
      ],
      "metadata": {
        "colab": {
          "base_uri": "https://localhost:8080/"
        },
        "id": "H4ncxivPMmeN",
        "outputId": "9b4c4991-a295-477f-f253-ea14399b7bb4"
      },
      "execution_count": null,
      "outputs": [
        {
          "output_type": "stream",
          "name": "stdout",
          "text": [
            "CPU times: user 124 µs, sys: 17 µs, total: 141 µs\n",
            "Wall time: 146 µs\n"
          ]
        },
        {
          "output_type": "execute_result",
          "data": {
            "text/plain": [
              "tensor(14)"
            ]
          },
          "metadata": {},
          "execution_count": 31
        }
      ]
    },
    {
      "cell_type": "code",
      "source": [
        "%%time\n",
        "tensor @ tensor"
      ],
      "metadata": {
        "colab": {
          "base_uri": "https://localhost:8080/"
        },
        "id": "LBg4gKNzNkwZ",
        "outputId": "ae715d68-eaf1-4083-a877-bc0540afede2"
      },
      "execution_count": null,
      "outputs": [
        {
          "output_type": "stream",
          "name": "stdout",
          "text": [
            "CPU times: user 126 µs, sys: 0 ns, total: 126 µs\n",
            "Wall time: 131 µs\n"
          ]
        },
        {
          "output_type": "execute_result",
          "data": {
            "text/plain": [
              "tensor(14)"
            ]
          },
          "metadata": {},
          "execution_count": 30
        }
      ]
    },
    {
      "cell_type": "markdown",
      "source": [
        "### One of the most common errors in DL: shape errors"
      ],
      "metadata": {
        "id": "f18_ZQsOOrTk"
      }
    },
    {
      "cell_type": "code",
      "source": [
        "# Shapes for matrix multiplication\n",
        "tensor_A = torch.tensor([[1,2],\n",
        "                         [3,4],\n",
        "                         [5,6]])\n",
        "\n",
        "tensor_B = torch.tensor([[7,10],\n",
        "                         [8,11],\n",
        "                         [12,13]])\n",
        "\n",
        "# Will throw an error\n",
        "torch.mm(tensor_A, tensor_B) # torch.mm is the same as torch.matmul (it's an alias for matmul)\n"
      ],
      "metadata": {
        "colab": {
          "base_uri": "https://localhost:8080/",
          "height": 200
        },
        "id": "NddcBeaMNy_2",
        "outputId": "d5f2d018-462e-48ea-8afc-fa82366d8004"
      },
      "execution_count": null,
      "outputs": [
        {
          "output_type": "error",
          "ename": "RuntimeError",
          "evalue": "ignored",
          "traceback": [
            "\u001b[0;31m---------------------------------------------------------------------------\u001b[0m",
            "\u001b[0;31mRuntimeError\u001b[0m                              Traceback (most recent call last)",
            "\u001b[0;32m<ipython-input-32-715b35b456d7>\u001b[0m in \u001b[0;36m<module>\u001b[0;34m\u001b[0m\n\u001b[1;32m      8\u001b[0m                          [12,13]])\n\u001b[1;32m      9\u001b[0m \u001b[0;34m\u001b[0m\u001b[0m\n\u001b[0;32m---> 10\u001b[0;31m \u001b[0mtorch\u001b[0m\u001b[0;34m.\u001b[0m\u001b[0mmm\u001b[0m\u001b[0;34m(\u001b[0m\u001b[0mtensor_A\u001b[0m\u001b[0;34m,\u001b[0m \u001b[0mtensor_B\u001b[0m\u001b[0;34m)\u001b[0m \u001b[0;31m# torch.mm is the same as torch.matmul (it's an alias for matmul)\u001b[0m\u001b[0;34m\u001b[0m\u001b[0;34m\u001b[0m\u001b[0m\n\u001b[0m",
            "\u001b[0;31mRuntimeError\u001b[0m: mat1 and mat2 shapes cannot be multiplied (3x2 and 3x2)"
          ]
        }
      ]
    },
    {
      "cell_type": "markdown",
      "source": [
        "To fix our tensor shape issues we can manipulate the shape one of our tensors using **Transpose**"
      ],
      "metadata": {
        "id": "E1z_kDCtQ-og"
      }
    },
    {
      "cell_type": "code",
      "source": [
        "tensor_B.T, tensor_B.T.shape"
      ],
      "metadata": {
        "colab": {
          "base_uri": "https://localhost:8080/"
        },
        "id": "lZtA6pJmRr6b",
        "outputId": "691ec918-7c58-43f9-be85-2ec4e6e48eb7"
      },
      "execution_count": null,
      "outputs": [
        {
          "output_type": "execute_result",
          "data": {
            "text/plain": [
              "(tensor([[ 7,  8, 12],\n",
              "         [10, 11, 13]]), torch.Size([2, 3]))"
            ]
          },
          "metadata": {},
          "execution_count": 35
        }
      ]
    },
    {
      "cell_type": "code",
      "source": [
        "# Now it will work\n",
        "torch.mm(tensor_A, tensor_B.T)"
      ],
      "metadata": {
        "colab": {
          "base_uri": "https://localhost:8080/"
        },
        "id": "CxcdvXUqRuv6",
        "outputId": "de6aa36d-ccdc-42fa-d6ae-5a59a3a5ed76"
      },
      "execution_count": null,
      "outputs": [
        {
          "output_type": "execute_result",
          "data": {
            "text/plain": [
              "tensor([[ 27,  30,  38],\n",
              "        [ 61,  68,  88],\n",
              "        [ 95, 106, 138]])"
            ]
          },
          "metadata": {},
          "execution_count": 36
        }
      ]
    },
    {
      "cell_type": "markdown",
      "source": [
        "## Finding the min, max, sum, etc (tensor aggregation)"
      ],
      "metadata": {
        "id": "np0ML8ChSGls"
      }
    },
    {
      "cell_type": "code",
      "source": [
        "# Create a tensor\n",
        "x = torch.arange(1, 100, 10)\n",
        "x, x.dtype"
      ],
      "metadata": {
        "colab": {
          "base_uri": "https://localhost:8080/"
        },
        "id": "_E7G3LagS2nB",
        "outputId": "dbd6c60b-5064-40f4-f505-5f9ff61ddbef"
      },
      "execution_count": null,
      "outputs": [
        {
          "output_type": "execute_result",
          "data": {
            "text/plain": [
              "(tensor([ 1, 11, 21, 31, 41, 51, 61, 71, 81, 91]), torch.int64)"
            ]
          },
          "metadata": {},
          "execution_count": 54
        }
      ]
    },
    {
      "cell_type": "code",
      "source": [
        "# Find the min\n",
        "torch.min(x), x.min(), min(x)"
      ],
      "metadata": {
        "colab": {
          "base_uri": "https://localhost:8080/"
        },
        "id": "xGnEwwsRS-tq",
        "outputId": "6c07d531-fb80-4ddb-82c6-9750a418c761"
      },
      "execution_count": null,
      "outputs": [
        {
          "output_type": "execute_result",
          "data": {
            "text/plain": [
              "(tensor(1), tensor(1), tensor(1))"
            ]
          },
          "metadata": {},
          "execution_count": 55
        }
      ]
    },
    {
      "cell_type": "code",
      "source": [
        "# Find the max\n",
        "torch.max(x), x.max(), max(x)"
      ],
      "metadata": {
        "colab": {
          "base_uri": "https://localhost:8080/"
        },
        "id": "f46t1GFFTHrH",
        "outputId": "200bf89f-41a9-4ebd-d3f1-7d4f62ea9683"
      },
      "execution_count": null,
      "outputs": [
        {
          "output_type": "execute_result",
          "data": {
            "text/plain": [
              "(tensor(91), tensor(91), tensor(91))"
            ]
          },
          "metadata": {},
          "execution_count": 56
        }
      ]
    },
    {
      "cell_type": "code",
      "source": [
        "# Find the mean - note: the torch.mean() function requires a tensor of float32 datatype to work\n",
        "torch.mean(x.type(torch.float32)), x.type(torch.float32).mean()"
      ],
      "metadata": {
        "colab": {
          "base_uri": "https://localhost:8080/"
        },
        "id": "KlfbbHRGTO9n",
        "outputId": "047838c8-cb64-4c59-c89e-e98924f12d46"
      },
      "execution_count": null,
      "outputs": [
        {
          "output_type": "execute_result",
          "data": {
            "text/plain": [
              "(tensor(46.), tensor(46.))"
            ]
          },
          "metadata": {},
          "execution_count": 57
        }
      ]
    },
    {
      "cell_type": "code",
      "source": [
        "# Find the sum\n",
        "torch.sum(x), x.sum(), sum(x)"
      ],
      "metadata": {
        "colab": {
          "base_uri": "https://localhost:8080/"
        },
        "id": "rk9GxSqZTTFe",
        "outputId": "ac708f39-f0e0-4c93-dbbd-dd30153e30e4"
      },
      "execution_count": null,
      "outputs": [
        {
          "output_type": "execute_result",
          "data": {
            "text/plain": [
              "(tensor(460), tensor(460), tensor(460))"
            ]
          },
          "metadata": {},
          "execution_count": 58
        }
      ]
    },
    {
      "cell_type": "markdown",
      "source": [
        "## Finding the position min and max"
      ],
      "metadata": {
        "id": "XMqNmm5qTiQP"
      }
    },
    {
      "cell_type": "code",
      "source": [
        "x"
      ],
      "metadata": {
        "colab": {
          "base_uri": "https://localhost:8080/"
        },
        "id": "Z2klrdjqU36g",
        "outputId": "9207885c-4813-49ad-bf3c-cc318c49aefb"
      },
      "execution_count": null,
      "outputs": [
        {
          "output_type": "execute_result",
          "data": {
            "text/plain": [
              "tensor([ 1, 11, 21, 31, 41, 51, 61, 71, 81, 91])"
            ]
          },
          "metadata": {},
          "execution_count": 59
        }
      ]
    },
    {
      "cell_type": "code",
      "source": [
        "# Find the position in tensor that has the minimum value with argmin() \n",
        "#-> returns index position of target tensor where the minimum value occurs\n",
        "x.argmin()"
      ],
      "metadata": {
        "colab": {
          "base_uri": "https://localhost:8080/"
        },
        "id": "_ULN_cNVUxJ8",
        "outputId": "f22e7cd2-f176-417d-b2ef-950054b1f59c"
      },
      "execution_count": null,
      "outputs": [
        {
          "output_type": "execute_result",
          "data": {
            "text/plain": [
              "tensor(0)"
            ]
          },
          "metadata": {},
          "execution_count": 60
        }
      ]
    },
    {
      "cell_type": "code",
      "source": [
        "x[0], x[x.argmin()]"
      ],
      "metadata": {
        "colab": {
          "base_uri": "https://localhost:8080/"
        },
        "id": "sCsbVQtbVOlP",
        "outputId": "535c25bb-aa07-4342-a160-b473e974b2ed"
      },
      "execution_count": null,
      "outputs": [
        {
          "output_type": "execute_result",
          "data": {
            "text/plain": [
              "(tensor(1), tensor(1))"
            ]
          },
          "metadata": {},
          "execution_count": 63
        }
      ]
    },
    {
      "cell_type": "code",
      "source": [
        "# Find the position in tensor that has the maximum value with argmax() \n",
        "#-> returns index position of target tensor where the maximum value occurs\n",
        "x.argmax()"
      ],
      "metadata": {
        "colab": {
          "base_uri": "https://localhost:8080/"
        },
        "id": "AZeGhbo9UyU2",
        "outputId": "7b5eb772-71a3-4247-b7af-2ea36fbf6d59"
      },
      "execution_count": null,
      "outputs": [
        {
          "output_type": "execute_result",
          "data": {
            "text/plain": [
              "tensor(9)"
            ]
          },
          "metadata": {},
          "execution_count": 52
        }
      ]
    },
    {
      "cell_type": "code",
      "source": [
        "x[9], x[x.argmax()]"
      ],
      "metadata": {
        "colab": {
          "base_uri": "https://localhost:8080/"
        },
        "id": "KeMH9khjUzzx",
        "outputId": "18fa0999-4bb8-470f-bcbd-bcdb635bd083"
      },
      "execution_count": null,
      "outputs": [
        {
          "output_type": "execute_result",
          "data": {
            "text/plain": [
              "(tensor(91), tensor(91))"
            ]
          },
          "metadata": {},
          "execution_count": 64
        }
      ]
    },
    {
      "cell_type": "markdown",
      "source": [
        "## Reshaping, stacking, squeezing and unsqueezing tensors\n",
        "\n",
        "* Reshaping - reshapes an input tensor to a defined shape\n",
        "* View - return a *view* of an input tensor of certain shape but keep the same memory as the original tensor\n",
        "* Stacking - combine multiple tensors on top of each other (vstack) or side-by-side (hstack)\n",
        "    1. stack: https://pytorch.org/docs/stable/generated/torch.stack.html\n",
        "    1. vstack: https://pytorch.org/docs/stable/generated/torch.vstack.html\n",
        "    1. hstack: https://pytorch.org/docs/stable/generated/torch.hstack.html\n",
        "\n",
        "* Squeeze - removes all `1` dimensions from a tensor (https://pytorch.org/docs/stable/generated/torch.squeeze.html)\n",
        "* Unsqueeze - adds a `1` dimension to a target tensor (https://pytorch.org/docs/stable/generated/torch.unsqueeze.html)\n",
        "* Permute - return a *view* of the imput with dimensions permuted (swapped) in a certain way (https://pytorch.org/docs/stable/generated/torch.permute.html"
      ],
      "metadata": {
        "id": "Zl5aue5wVZWo"
      }
    },
    {
      "cell_type": "code",
      "source": [
        "x = torch.arange(1, 10)\n",
        "x, x.shape, x.dtype"
      ],
      "metadata": {
        "colab": {
          "base_uri": "https://localhost:8080/"
        },
        "id": "kzaPGcJUYR3K",
        "outputId": "71d37879-7971-4606-d9df-bc2d198ddfae"
      },
      "execution_count": null,
      "outputs": [
        {
          "output_type": "execute_result",
          "data": {
            "text/plain": [
              "(tensor([1, 2, 3, 4, 5, 6, 7, 8, 9]), torch.Size([9]), torch.int64)"
            ]
          },
          "metadata": {},
          "execution_count": 85
        }
      ]
    },
    {
      "cell_type": "code",
      "source": [
        "# Let's create a tensor\n",
        "x = torch.arange(1., 10.)\n",
        "x, x.shape, x.dtype"
      ],
      "metadata": {
        "colab": {
          "base_uri": "https://localhost:8080/"
        },
        "id": "I7KaEeFjYClN",
        "outputId": "2eabf064-8b2d-4086-941e-9eee1a9543b0"
      },
      "execution_count": null,
      "outputs": [
        {
          "output_type": "execute_result",
          "data": {
            "text/plain": [
              "(tensor([1., 2., 3., 4., 5., 6., 7., 8., 9.]), torch.Size([9]), torch.float32)"
            ]
          },
          "metadata": {},
          "execution_count": 95
        }
      ]
    },
    {
      "cell_type": "code",
      "source": [
        "# Add an extra dimension - must be compatible with the tensor shape\n",
        "x_reshaped = x.reshape(1,9)\n",
        "x_reshaped, x_reshaped.shape, x_reshaped.dtype"
      ],
      "metadata": {
        "colab": {
          "base_uri": "https://localhost:8080/"
        },
        "id": "ITI6GwKuYS2j",
        "outputId": "6f723ca4-e497-419a-86e7-cddb2d2dd74f"
      },
      "execution_count": null,
      "outputs": [
        {
          "output_type": "execute_result",
          "data": {
            "text/plain": [
              "(tensor([[1., 2., 3., 4., 5., 6., 7., 8., 9.]]),\n",
              " torch.Size([1, 9]),\n",
              " torch.float32)"
            ]
          },
          "metadata": {},
          "execution_count": 87
        }
      ]
    },
    {
      "cell_type": "code",
      "source": [
        "x_reshaped = x.reshape(9,1)\n",
        "x_reshaped, x_reshaped.shape, x_reshaped.dtype"
      ],
      "metadata": {
        "colab": {
          "base_uri": "https://localhost:8080/"
        },
        "id": "zFOWy9EEYY-V",
        "outputId": "b68d1a9e-9322-4600-d4c2-59bc3eea4020"
      },
      "execution_count": null,
      "outputs": [
        {
          "output_type": "execute_result",
          "data": {
            "text/plain": [
              "(tensor([[1.],\n",
              "         [2.],\n",
              "         [3.],\n",
              "         [4.],\n",
              "         [5.],\n",
              "         [6.],\n",
              "         [7.],\n",
              "         [8.],\n",
              "         [9.]]), torch.Size([9, 1]), torch.float32)"
            ]
          },
          "metadata": {},
          "execution_count": 88
        }
      ]
    },
    {
      "cell_type": "code",
      "source": [
        "# Change the view - SHARES SAME MEMORY WITH TENSOR - z is just a different view of x\n",
        "z = x.view(1,9)\n",
        "z, z.shape, z.dtype"
      ],
      "metadata": {
        "colab": {
          "base_uri": "https://localhost:8080/"
        },
        "id": "5aF4KB2UY3st",
        "outputId": "e0af2d69-5809-4d88-8680-3ced07dd5ed1"
      },
      "execution_count": null,
      "outputs": [
        {
          "output_type": "execute_result",
          "data": {
            "text/plain": [
              "(tensor([[1., 2., 3., 4., 5., 6., 7., 8., 9.]]),\n",
              " torch.Size([1, 9]),\n",
              " torch.float32)"
            ]
          },
          "metadata": {},
          "execution_count": 96
        }
      ]
    },
    {
      "cell_type": "code",
      "source": [
        "# Changing z changes x\n",
        "z[:,0] = 5\n",
        "z,x"
      ],
      "metadata": {
        "colab": {
          "base_uri": "https://localhost:8080/"
        },
        "id": "k_PoOVHOZiUq",
        "outputId": "7aed6630-f531-4fb1-f648-dc369f3ef80e"
      },
      "execution_count": null,
      "outputs": [
        {
          "output_type": "execute_result",
          "data": {
            "text/plain": [
              "(tensor([[5., 2., 3., 4., 5., 6., 7., 8., 9.]]),\n",
              " tensor([5., 2., 3., 4., 5., 6., 7., 8., 9.]))"
            ]
          },
          "metadata": {},
          "execution_count": 101
        }
      ]
    },
    {
      "cell_type": "code",
      "source": [
        "# Stack tensors on top of each other\n",
        "x_stacked = torch.stack([x,x,x,x]) #default dim=0 | =vstack\n",
        "x_stacked, x_stacked.shape, x_stacked.dtype"
      ],
      "metadata": {
        "colab": {
          "base_uri": "https://localhost:8080/"
        },
        "id": "pHfhJvIiZr2E",
        "outputId": "9a812936-ec45-4852-a742-b2654dbd10df"
      },
      "execution_count": null,
      "outputs": [
        {
          "output_type": "execute_result",
          "data": {
            "text/plain": [
              "(tensor([[5., 2., 3., 4., 5., 6., 7., 8., 9.],\n",
              "         [5., 2., 3., 4., 5., 6., 7., 8., 9.],\n",
              "         [5., 2., 3., 4., 5., 6., 7., 8., 9.],\n",
              "         [5., 2., 3., 4., 5., 6., 7., 8., 9.]]),\n",
              " torch.Size([4, 9]),\n",
              " torch.float32)"
            ]
          },
          "metadata": {},
          "execution_count": 103
        }
      ]
    },
    {
      "cell_type": "code",
      "source": [
        "x_stacked = torch.stack([x,x,x,x], dim=1) # NOT the same with hstack\n",
        "x_stacked, x_stacked.shape, x_stacked.dtype"
      ],
      "metadata": {
        "colab": {
          "base_uri": "https://localhost:8080/"
        },
        "id": "XyXDTSWGaEPA",
        "outputId": "1fbc8f52-f7ce-4dc0-dc2c-ff149e7c5b82"
      },
      "execution_count": null,
      "outputs": [
        {
          "output_type": "execute_result",
          "data": {
            "text/plain": [
              "(tensor([[5., 5., 5., 5.],\n",
              "         [2., 2., 2., 2.],\n",
              "         [3., 3., 3., 3.],\n",
              "         [4., 4., 4., 4.],\n",
              "         [5., 5., 5., 5.],\n",
              "         [6., 6., 6., 6.],\n",
              "         [7., 7., 7., 7.],\n",
              "         [8., 8., 8., 8.],\n",
              "         [9., 9., 9., 9.]]), torch.Size([9, 4]), torch.float32)"
            ]
          },
          "metadata": {},
          "execution_count": 104
        }
      ]
    },
    {
      "cell_type": "code",
      "source": [
        "# hstack\n",
        "torch.hstack([x,x,x,x]) "
      ],
      "metadata": {
        "colab": {
          "base_uri": "https://localhost:8080/"
        },
        "id": "IX3JNk7janLN",
        "outputId": "0950daf1-2c6c-4294-d96d-1d80be03ad91"
      },
      "execution_count": null,
      "outputs": [
        {
          "output_type": "execute_result",
          "data": {
            "text/plain": [
              "tensor([5., 2., 3., 4., 5., 6., 7., 8., 9., 5., 2., 3., 4., 5., 6., 7., 8., 9.,\n",
              "        5., 2., 3., 4., 5., 6., 7., 8., 9., 5., 2., 3., 4., 5., 6., 7., 8., 9.])"
            ]
          },
          "metadata": {},
          "execution_count": 107
        }
      ]
    },
    {
      "cell_type": "code",
      "source": [
        "# torch.squeeze() - removes all single dimensions from a target tensor\n",
        "x_reshaped = x.reshape(1,9)\n",
        "print('x_reshaped:', x_reshaped)\n",
        "print('x_reshaped.shape:', x_reshaped.shape)\n",
        "print()\n",
        "x_reshaped_squeezed = x_reshaped.squeeze()\n",
        "print('x_reshaped_squeezed:', x_reshaped_squeezed)\n",
        "print('x_reshaped_squeezed.shape:', x_reshaped_squeezed.shape)\n"
      ],
      "metadata": {
        "colab": {
          "base_uri": "https://localhost:8080/"
        },
        "id": "uHTCiZlTa4Ae",
        "outputId": "4121a0f6-d775-4b69-f7aa-1995cb441578"
      },
      "execution_count": null,
      "outputs": [
        {
          "output_type": "stream",
          "name": "stdout",
          "text": [
            "x_reshaped: tensor([[5., 2., 3., 4., 5., 6., 7., 8., 9.]])\n",
            "x_reshaped.shape: torch.Size([1, 9])\n",
            "\n",
            "x_reshaped_squeezed: tensor([5., 2., 3., 4., 5., 6., 7., 8., 9.])\n",
            "x_reshaped_squeezed.shape: torch.Size([9])\n"
          ]
        }
      ]
    },
    {
      "cell_type": "code",
      "source": [
        "# torch.unsqueeze() -> adds a single dimension to a target tensor at a specific dim\n",
        "print('x_reshaped_squeezed:', x_reshaped_squeezed)\n",
        "print('x_reshaped_squeezed.shape:', x_reshaped_squeezed.shape)\n",
        "print()\n",
        "\n",
        "# Add extra dim on dim=0\n",
        "x_reshaped_unsqueezed = x_reshaped_squeezed.unsqueeze(dim=0)\n",
        "print('Dim=0:')\n",
        "print('x_reshaped_unsqueezed:', x_reshaped_unsqueezed)\n",
        "print('x_reshaped_unsqueezed.shape:', x_reshaped_unsqueezed.shape)\n",
        "print()\n",
        "\n",
        "# Add extra dim on dim=1 - will reshape the tensor\n",
        "print('Dim=1:')\n",
        "x_reshaped_unsqueezed = x_reshaped_squeezed.unsqueeze(dim=1)\n",
        "print('x_reshaped_unsqueezed:', x_reshaped_unsqueezed)\n",
        "print('x_reshaped_unsqueezed.shape:', x_reshaped_unsqueezed.shape)"
      ],
      "metadata": {
        "colab": {
          "base_uri": "https://localhost:8080/"
        },
        "id": "X_22y8KQbdq7",
        "outputId": "9ca3d427-9f27-43fa-ad16-acca82cad50a"
      },
      "execution_count": null,
      "outputs": [
        {
          "output_type": "stream",
          "name": "stdout",
          "text": [
            "x_reshaped_squeezed: tensor([5., 2., 3., 4., 5., 6., 7., 8., 9.])\n",
            "x_reshaped_squeezed.shape: torch.Size([9])\n",
            "\n",
            "Dim=0:\n",
            "x_reshaped_unsqueezed: tensor([[5., 2., 3., 4., 5., 6., 7., 8., 9.]])\n",
            "x_reshaped_unsqueezed.shape: torch.Size([1, 9])\n",
            "\n",
            "Dim=1:\n",
            "x_reshaped_unsqueezed: tensor([[5.],\n",
            "        [2.],\n",
            "        [3.],\n",
            "        [4.],\n",
            "        [5.],\n",
            "        [6.],\n",
            "        [7.],\n",
            "        [8.],\n",
            "        [9.]])\n",
            "x_reshaped_unsqueezed.shape: torch.Size([9, 1])\n"
          ]
        }
      ]
    },
    {
      "cell_type": "code",
      "source": [
        "# torch.permute() -> rearranges the dimensions of a target in a specific order\n",
        "# permute = rearrange (kinda)\n",
        "x_original = torch.rand(size=(224,224,3))\n",
        "\n",
        "# Permute the original tensor to rearrange the axis (or dim) order\n",
        "x_permuted = x_original.permute(2,0,1) # shifts axis 0->1, 1->2, 2->0\n",
        "# or\n",
        "#x_permuted = torch.permute(x_original, (2, 0, 1))\n",
        "\n",
        "\n",
        "print(f'Previous shape:{x_original.shape}')\n",
        "print(f'New shape:{x_permuted.shape}')"
      ],
      "metadata": {
        "colab": {
          "base_uri": "https://localhost:8080/"
        },
        "id": "mkYjEa-Lc0CE",
        "outputId": "b3cd52f7-6133-411f-81df-896626e597c9"
      },
      "execution_count": null,
      "outputs": [
        {
          "output_type": "stream",
          "name": "stdout",
          "text": [
            "Previous shape:torch.Size([224, 224, 3])\n",
            "New shape:torch.Size([3, 224, 224])\n"
          ]
        }
      ]
    },
    {
      "cell_type": "code",
      "source": [
        "x_original[0,0,0] = 42"
      ],
      "metadata": {
        "id": "_lpj2_sOfGCm"
      },
      "execution_count": null,
      "outputs": []
    },
    {
      "cell_type": "code",
      "source": [
        "x_permuted[0,0,0]"
      ],
      "metadata": {
        "colab": {
          "base_uri": "https://localhost:8080/"
        },
        "id": "BMUBBa1kfGAF",
        "outputId": "513f1ab8-d03e-4179-8f49-a2503a8ed821"
      },
      "execution_count": null,
      "outputs": [
        {
          "output_type": "execute_result",
          "data": {
            "text/plain": [
              "tensor(42.)"
            ]
          },
          "metadata": {},
          "execution_count": 126
        }
      ]
    },
    {
      "cell_type": "markdown",
      "source": [
        "## Indexing (selecting data from tensors)\n",
        "\n",
        "Indexing with PyTorch is similar with indexing with Numpy"
      ],
      "metadata": {
        "id": "gOIQYR37eZeW"
      }
    },
    {
      "cell_type": "code",
      "source": [
        "# Create tensor\n",
        "x = torch.arange(1., 10).reshape(1, 3, 3)\n",
        "x, x.shape"
      ],
      "metadata": {
        "colab": {
          "base_uri": "https://localhost:8080/"
        },
        "id": "pUGNNM4sf0xB",
        "outputId": "aa76c752-b4cb-4238-edd9-77f8ae3458b5"
      },
      "execution_count": null,
      "outputs": [
        {
          "output_type": "execute_result",
          "data": {
            "text/plain": [
              "(tensor([[[1., 2., 3.],\n",
              "          [4., 5., 6.],\n",
              "          [7., 8., 9.]]]), torch.Size([1, 3, 3]))"
            ]
          },
          "metadata": {},
          "execution_count": 133
        }
      ]
    },
    {
      "cell_type": "code",
      "source": [
        "# Let's index on our new tensor (dim=0)\n",
        "x[0]"
      ],
      "metadata": {
        "colab": {
          "base_uri": "https://localhost:8080/"
        },
        "id": "m8EeHEREf-b0",
        "outputId": "3a6a21ca-e3d8-4d5e-a452-9df3c4952f35"
      },
      "execution_count": null,
      "outputs": [
        {
          "output_type": "execute_result",
          "data": {
            "text/plain": [
              "tensor([[1., 2., 3.],\n",
              "        [4., 5., 6.],\n",
              "        [7., 8., 9.]])"
            ]
          },
          "metadata": {},
          "execution_count": 134
        }
      ]
    },
    {
      "cell_type": "code",
      "source": [
        "# Let's index on the middle bracket (dim=1)\n",
        "x[0][0], x[0,0]"
      ],
      "metadata": {
        "colab": {
          "base_uri": "https://localhost:8080/"
        },
        "id": "gIPCiJxXgLeS",
        "outputId": "17f8e01c-24a7-4087-f7b1-139b9d94c23b"
      },
      "execution_count": null,
      "outputs": [
        {
          "output_type": "execute_result",
          "data": {
            "text/plain": [
              "(tensor([1., 2., 3.]), tensor([1., 2., 3.]))"
            ]
          },
          "metadata": {},
          "execution_count": 135
        }
      ]
    },
    {
      "cell_type": "code",
      "source": [
        "# Let's index on the most inner bracket (last dimension, dim=2)\n",
        "x[0][0][0], x[0,0,0]"
      ],
      "metadata": {
        "colab": {
          "base_uri": "https://localhost:8080/"
        },
        "id": "LydetC09gSAl",
        "outputId": "cd6a585c-42f2-4283-f09d-1a5076f2b74c"
      },
      "execution_count": null,
      "outputs": [
        {
          "output_type": "execute_result",
          "data": {
            "text/plain": [
              "(tensor(1.), tensor(1.))"
            ]
          },
          "metadata": {},
          "execution_count": 136
        }
      ]
    },
    {
      "cell_type": "code",
      "source": [
        "# You can also use ':' to select \"all\" of a target dimension\n",
        "x[:,0]"
      ],
      "metadata": {
        "colab": {
          "base_uri": "https://localhost:8080/"
        },
        "id": "zeDMa5M5gjF7",
        "outputId": "1dd076bb-31e3-4ec4-96d1-59d350d20c29"
      },
      "execution_count": null,
      "outputs": [
        {
          "output_type": "execute_result",
          "data": {
            "text/plain": [
              "tensor([[1., 2., 3.]])"
            ]
          },
          "metadata": {},
          "execution_count": 144
        }
      ]
    },
    {
      "cell_type": "code",
      "source": [
        "# Get all values of the 0th and the 1st dimensions but only index 1 of 2nd dimension\n",
        "x[:,:, 1]"
      ],
      "metadata": {
        "colab": {
          "base_uri": "https://localhost:8080/"
        },
        "id": "Q-Gow3xChH8Z",
        "outputId": "7c265bf0-e50e-4814-ec26-6a436ef21f0c"
      },
      "execution_count": null,
      "outputs": [
        {
          "output_type": "execute_result",
          "data": {
            "text/plain": [
              "tensor([[2., 5., 8.]])"
            ]
          },
          "metadata": {},
          "execution_count": 145
        }
      ]
    },
    {
      "cell_type": "code",
      "source": [
        "# Get all values of the 0th but only the 1 index of 1st of 2nd dimension\n",
        "x[:,1,1] # Notice the difference with x[0,1,1]"
      ],
      "metadata": {
        "colab": {
          "base_uri": "https://localhost:8080/"
        },
        "id": "vmNAmVrihiIb",
        "outputId": "512f41bb-3534-437f-d5ed-10327b737f79"
      },
      "execution_count": null,
      "outputs": [
        {
          "output_type": "execute_result",
          "data": {
            "text/plain": [
              "tensor([5.])"
            ]
          },
          "metadata": {},
          "execution_count": 148
        }
      ]
    },
    {
      "cell_type": "code",
      "source": [
        "# Get index 0 of 0th and 1st dimension and all values of 2nd dimension\n",
        "x[0,0,:], x[0][0], x[0,0]"
      ],
      "metadata": {
        "colab": {
          "base_uri": "https://localhost:8080/"
        },
        "id": "ZZFiPl2dh92Q",
        "outputId": "b3c821a4-9cc0-46ef-fd83-505576279ea5"
      },
      "execution_count": null,
      "outputs": [
        {
          "output_type": "execute_result",
          "data": {
            "text/plain": [
              "(tensor([1., 2., 3.]), tensor([1., 2., 3.]), tensor([1., 2., 3.]))"
            ]
          },
          "metadata": {},
          "execution_count": 149
        }
      ]
    },
    {
      "cell_type": "code",
      "source": [
        "# Index on x to return 9\n",
        "print(f'Return 9: {x[0,2,2]}')\n",
        "\n",
        "# Index on x to return 3, 6, 9\n",
        "print(f'Return 3, 6, 9: {x[0,:,2]}')\n"
      ],
      "metadata": {
        "colab": {
          "base_uri": "https://localhost:8080/"
        },
        "id": "PHC0jeraitV9",
        "outputId": "41a62a78-52ba-4157-fde4-fd35daf62587"
      },
      "execution_count": null,
      "outputs": [
        {
          "output_type": "stream",
          "name": "stdout",
          "text": [
            "Return 9: 9.0\n",
            "Return 3, 6, 9: tensor([3., 6., 9.])\n"
          ]
        }
      ]
    },
    {
      "cell_type": "markdown",
      "source": [
        "## Pytorch tensors and Numpy\n",
        "\n",
        "*  Data in Numpy, want in PyTorch tensor -> `torch.from_numpy(ndarray)`\n",
        "* PyTorch tensor -> Numpy -> `torch.Tensor.numpy()`"
      ],
      "metadata": {
        "id": "Lxg2OYIBr58J"
      }
    },
    {
      "cell_type": "code",
      "source": [
        "# Numpy array to tensor\n",
        "\n",
        "array = np.arange(1., 8.)\n",
        "tensor = torch.from_numpy(array) # warning when converting from numpy to pytorch \n",
        "                                 # pytorch reflects numpy's default dataatype of float64 unless specified otehrwise\n",
        "array, tensor"
      ],
      "metadata": {
        "id": "t_JK2GI5jY-K",
        "colab": {
          "base_uri": "https://localhost:8080/"
        },
        "outputId": "77a60116-d0d2-4b2c-c0d1-6f6e8045ef9c"
      },
      "execution_count": 20,
      "outputs": [
        {
          "output_type": "execute_result",
          "data": {
            "text/plain": [
              "(array([1., 2., 3., 4., 5., 6., 7.]),\n",
              " tensor([1., 2., 3., 4., 5., 6., 7.], dtype=torch.float64))"
            ]
          },
          "metadata": {},
          "execution_count": 20
        }
      ]
    },
    {
      "cell_type": "markdown",
      "source": [
        "* Default numpy dtype: float64\n",
        "* Default tensor dtype: float32"
      ],
      "metadata": {
        "id": "cLwH6J3Oppo5"
      }
    },
    {
      "cell_type": "code",
      "source": [
        "array.dtype, tensor.dtype"
      ],
      "metadata": {
        "colab": {
          "base_uri": "https://localhost:8080/"
        },
        "id": "xyVbgb_gphKN",
        "outputId": "c3e88c7e-cb28-4cfe-e53c-adf8477c3ffd"
      },
      "execution_count": 21,
      "outputs": [
        {
          "output_type": "execute_result",
          "data": {
            "text/plain": [
              "(dtype('float64'), torch.float64)"
            ]
          },
          "metadata": {},
          "execution_count": 21
        }
      ]
    },
    {
      "cell_type": "code",
      "source": [
        "# Change value of array, what will this do to tensor?\n",
        "array = array +  1\n",
        "array, tensor"
      ],
      "metadata": {
        "id": "ETsRC2wWp0vX"
      },
      "execution_count": 22,
      "outputs": []
    },
    {
      "cell_type": "code",
      "source": [
        "# Tensor to numpy array\n",
        "tensor = torch.ones(7)\n",
        "numpy_tensor = tensor.numpy()\n",
        "\n",
        "tensor, numpy_tensor.dtype"
      ],
      "metadata": {
        "colab": {
          "base_uri": "https://localhost:8080/"
        },
        "id": "TtPRB_CYq3rA",
        "outputId": "5bff926d-fb3a-49b2-8086-1de966d7e612"
      },
      "execution_count": 24,
      "outputs": [
        {
          "output_type": "execute_result",
          "data": {
            "text/plain": [
              "(tensor([1., 1., 1., 1., 1., 1., 1.]), dtype('float32'))"
            ]
          },
          "metadata": {},
          "execution_count": 24
        }
      ]
    },
    {
      "cell_type": "code",
      "source": [
        "# Change the tensor, what will this do to the array?\n",
        "tensor = tensor +  1\n",
        "tensor, numpy_tensor"
      ],
      "metadata": {
        "colab": {
          "base_uri": "https://localhost:8080/"
        },
        "id": "eoXUw25Kqxqn",
        "outputId": "f471613d-a543-4665-a04f-e36067417e80"
      },
      "execution_count": 25,
      "outputs": [
        {
          "output_type": "execute_result",
          "data": {
            "text/plain": [
              "(tensor([2., 2., 2., 2., 2., 2., 2.]),\n",
              " array([1., 1., 1., 1., 1., 1., 1.], dtype=float32))"
            ]
          },
          "metadata": {},
          "execution_count": 25
        }
      ]
    },
    {
      "cell_type": "markdown",
      "source": [
        "## Reproducibility\n",
        "https://pytorch.org/docs/stable/notes/randomness.html\n",
        "\n",
        "In short how a neural network learns:\n",
        "\n",
        "`start with random numbers -> tensor operations -> update random numbers to try and make them better representations of the data -> again -> again -> again -> ...`\n",
        "\n",
        "\n",
        "To reduce the randomness in neural networks and PyTorch comes the concept of a **random seed**\n",
        "\n",
        "Essentially what the random seed is \"flavour\" the randomness."
      ],
      "metadata": {
        "id": "R2lWBZKnr8JA"
      }
    },
    {
      "cell_type": "code",
      "source": [
        "# Create two random tensors\n",
        "random_tensor_A = torch.rand(3,4)\n",
        "random_tensor_B = torch.rand(3,4)\n",
        "\n",
        "print(random_tensor_A)\n",
        "print(random_tensor_B)\n",
        "print(random_tensor_A == random_tensor_B)"
      ],
      "metadata": {
        "colab": {
          "base_uri": "https://localhost:8080/"
        },
        "id": "E2OLYBKtsL4x",
        "outputId": "67c04c81-e09e-436c-f12c-92d15ef21975"
      },
      "execution_count": 26,
      "outputs": [
        {
          "output_type": "stream",
          "name": "stdout",
          "text": [
            "tensor([[0.6362, 0.7520, 0.5874, 0.2445],\n",
            "        [0.4350, 0.9611, 0.6567, 0.6830],\n",
            "        [0.8341, 0.8181, 0.8938, 0.8550]])\n",
            "tensor([[0.9630, 0.5636, 0.6037, 0.7132],\n",
            "        [0.6696, 0.4502, 0.2658, 0.1859],\n",
            "        [0.1322, 0.5742, 0.1257, 0.7939]])\n",
            "tensor([[False, False, False, False],\n",
            "        [False, False, False, False],\n",
            "        [False, False, False, False]])\n"
          ]
        }
      ]
    },
    {
      "cell_type": "code",
      "source": [
        "# Let's make some random but reproducible tensors\n",
        "# Set random seed\n",
        "RANDOM_SEED = 42\n",
        "\n",
        "torch.manual_seed(RANDOM_SEED) #It only works for the next command\n",
        "random_tensor_C = torch.rand(3, 4)\n",
        "\n",
        "torch.manual_seed(RANDOM_SEED)\n",
        "random_tensor_D = torch.rand(3, 4)\n",
        "\n",
        "print(random_tensor_C)\n",
        "print(random_tensor_D)\n",
        "print(random_tensor_C == random_tensor_D)"
      ],
      "metadata": {
        "colab": {
          "base_uri": "https://localhost:8080/"
        },
        "id": "x0QML5zKtHPZ",
        "outputId": "afcc20da-b461-4699-fb7d-23afcfbe4408"
      },
      "execution_count": 28,
      "outputs": [
        {
          "output_type": "stream",
          "name": "stdout",
          "text": [
            "tensor([[0.8823, 0.9150, 0.3829, 0.9593],\n",
            "        [0.3904, 0.6009, 0.2566, 0.7936],\n",
            "        [0.9408, 0.1332, 0.9346, 0.5936]])\n",
            "tensor([[0.8823, 0.9150, 0.3829, 0.9593],\n",
            "        [0.3904, 0.6009, 0.2566, 0.7936],\n",
            "        [0.9408, 0.1332, 0.9346, 0.5936]])\n",
            "tensor([[True, True, True, True],\n",
            "        [True, True, True, True],\n",
            "        [True, True, True, True]])\n"
          ]
        }
      ]
    },
    {
      "cell_type": "markdown",
      "source": [
        "## Running tensor and PyTorch objects on the GPUs"
      ],
      "metadata": {
        "id": "eiP9kpoxt1I5"
      }
    },
    {
      "cell_type": "markdown",
      "source": [
        "### 1. Getting a GPU\n",
        "\n",
        "1. Easiest - use Google colab for a free GPU\n",
        "2. Use your own GPU\n",
        "3. Use cloud computing - GCP, AWS, Azure"
      ],
      "metadata": {
        "id": "B6wQ33C0umH3"
      }
    },
    {
      "cell_type": "code",
      "source": [
        "# How to see the machine specs\n",
        "!nvidia-smi"
      ],
      "metadata": {
        "colab": {
          "base_uri": "https://localhost:8080/"
        },
        "id": "ZYTmMtOAvLb5",
        "outputId": "a2c847d2-a931-4c7f-9f6c-c535e77d7df4"
      },
      "execution_count": 2,
      "outputs": [
        {
          "output_type": "stream",
          "name": "stdout",
          "text": [
            "Fri Nov 18 17:20:04 2022       \n",
            "+-----------------------------------------------------------------------------+\n",
            "| NVIDIA-SMI 460.32.03    Driver Version: 460.32.03    CUDA Version: 11.2     |\n",
            "|-------------------------------+----------------------+----------------------+\n",
            "| GPU  Name        Persistence-M| Bus-Id        Disp.A | Volatile Uncorr. ECC |\n",
            "| Fan  Temp  Perf  Pwr:Usage/Cap|         Memory-Usage | GPU-Util  Compute M. |\n",
            "|                               |                      |               MIG M. |\n",
            "|===============================+======================+======================|\n",
            "|   0  Tesla T4            Off  | 00000000:00:04.0 Off |                    0 |\n",
            "| N/A   61C    P8    12W /  70W |      0MiB / 15109MiB |      0%      Default |\n",
            "|                               |                      |                  N/A |\n",
            "+-------------------------------+----------------------+----------------------+\n",
            "                                                                               \n",
            "+-----------------------------------------------------------------------------+\n",
            "| Processes:                                                                  |\n",
            "|  GPU   GI   CI        PID   Type   Process name                  GPU Memory |\n",
            "|        ID   ID                                                   Usage      |\n",
            "|=============================================================================|\n",
            "|  No running processes found                                                 |\n",
            "+-----------------------------------------------------------------------------+\n"
          ]
        }
      ]
    },
    {
      "cell_type": "markdown",
      "source": [
        "### 2. Check for GPU access with PyTorch"
      ],
      "metadata": {
        "id": "Er0A58LLvtOn"
      }
    },
    {
      "cell_type": "code",
      "source": [
        "# Check for GPU access with PyTorch\n",
        "\n",
        "torch.cuda.is_available()"
      ],
      "metadata": {
        "colab": {
          "base_uri": "https://localhost:8080/"
        },
        "id": "1gsfMKgUvxxP",
        "outputId": "ee103c96-5bce-49be-d1fb-68e333d2bb1e"
      },
      "execution_count": 3,
      "outputs": [
        {
          "output_type": "execute_result",
          "data": {
            "text/plain": [
              "True"
            ]
          },
          "metadata": {},
          "execution_count": 3
        }
      ]
    },
    {
      "cell_type": "markdown",
      "source": [
        "For PyTorch since it'a cPblw of running compute on the GPU or CPU, it's best practice to setup device agnostic code: https://pytorch.org/docs/stable/notes/cuda.html#best-practices\n",
        "\n",
        "E.g. Run on GPU if available, else run on CPU"
      ],
      "metadata": {
        "id": "nxKwjH0Mwa5T"
      }
    },
    {
      "cell_type": "code",
      "source": [
        "# Setup device agnostic code\n",
        "device = 'cuda' if torch.cuda.is_available() else 'cpu'\n",
        "device"
      ],
      "metadata": {
        "colab": {
          "base_uri": "https://localhost:8080/",
          "height": 36
        },
        "id": "reeMCenGv5Yu",
        "outputId": "84d45467-f395-45c3-d6e3-672aca5f6f3a"
      },
      "execution_count": 7,
      "outputs": [
        {
          "output_type": "execute_result",
          "data": {
            "text/plain": [
              "'cuda'"
            ],
            "application/vnd.google.colaboratory.intrinsic+json": {
              "type": "string"
            }
          },
          "metadata": {},
          "execution_count": 7
        }
      ]
    },
    {
      "cell_type": "code",
      "source": [
        "# Count number of devices\n",
        "torch.cuda.device_count()"
      ],
      "metadata": {
        "colab": {
          "base_uri": "https://localhost:8080/"
        },
        "id": "OZ2jrLwQwI0J",
        "outputId": "d1e40db3-8f9e-4cc6-9ace-0f2a26501a39"
      },
      "execution_count": 5,
      "outputs": [
        {
          "output_type": "execute_result",
          "data": {
            "text/plain": [
              "1"
            ]
          },
          "metadata": {},
          "execution_count": 5
        }
      ]
    },
    {
      "cell_type": "markdown",
      "source": [
        "### 3. Putting tensors and models on the GPU\n",
        "\n",
        "The reason we want our tensors/models on the GPU because using a GPU results in faster computations\n",
        "\n"
      ],
      "metadata": {
        "id": "KqepVvW6wz0p"
      }
    },
    {
      "cell_type": "code",
      "source": [
        "# Create a tensor (default on the CPU)\n",
        "tensor = torch.tensor([1,2,3], device='cpu') # default\n",
        "\n",
        "# Tensor not on GPU\n",
        "print(tensor, tensor.device)"
      ],
      "metadata": {
        "colab": {
          "base_uri": "https://localhost:8080/"
        },
        "id": "2UbFs12VwNCH",
        "outputId": "7637ac93-8233-41b6-f87d-eca0b975e553"
      },
      "execution_count": 8,
      "outputs": [
        {
          "output_type": "stream",
          "name": "stdout",
          "text": [
            "tensor([1, 2, 3]) cpu\n"
          ]
        }
      ]
    },
    {
      "cell_type": "code",
      "source": [
        "# Move tensor to GPU (if available)\n",
        "tensor_on_gpu = tensor.to(device)\n",
        "tensor_on_gpu"
      ],
      "metadata": {
        "colab": {
          "base_uri": "https://localhost:8080/"
        },
        "id": "Xll05oBtxPS8",
        "outputId": "219fd117-483e-4ded-bb69-f6ad76349252"
      },
      "execution_count": 9,
      "outputs": [
        {
          "output_type": "execute_result",
          "data": {
            "text/plain": [
              "tensor([1, 2, 3], device='cuda:0')"
            ]
          },
          "metadata": {},
          "execution_count": 9
        }
      ]
    },
    {
      "cell_type": "markdown",
      "source": [
        "### 4. Moving tensors back to CPU\n"
      ],
      "metadata": {
        "id": "JtTBIWP0xgwY"
      }
    },
    {
      "cell_type": "code",
      "source": [
        "# If tensor is on GPU, can't transform it to Numpy\n",
        "# We must first set it to CPU\n",
        "\n",
        "tesnor_back_on_cpu = tensor_on_gpu.cpu().numpy()\n",
        "tesnor_back_on_cpu"
      ],
      "metadata": {
        "colab": {
          "base_uri": "https://localhost:8080/"
        },
        "id": "Q_c67Omdx3mJ",
        "outputId": "0fd647a7-98c2-4867-855a-86f71318f9a2"
      },
      "execution_count": 11,
      "outputs": [
        {
          "output_type": "execute_result",
          "data": {
            "text/plain": [
              "array([1, 2, 3])"
            ]
          },
          "metadata": {},
          "execution_count": 11
        }
      ]
    },
    {
      "cell_type": "code",
      "source": [],
      "metadata": {
        "id": "U3oL2HHjyvwN"
      },
      "execution_count": null,
      "outputs": []
    }
  ]
}