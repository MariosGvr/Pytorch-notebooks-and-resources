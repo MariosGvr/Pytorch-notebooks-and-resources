{
  "nbformat": 4,
  "nbformat_minor": 0,
  "metadata": {
    "colab": {
      "provenance": [],
      "authorship_tag": "ABX9TyMlt8XeYYHybItwReTr9VA0",
      "include_colab_link": true
    },
    "kernelspec": {
      "name": "python3",
      "display_name": "Python 3"
    },
    "language_info": {
      "name": "python"
    },
    "accelerator": "GPU",
    "gpuClass": "standard"
  },
  "cells": [
    {
      "cell_type": "markdown",
      "metadata": {
        "id": "view-in-github",
        "colab_type": "text"
      },
      "source": [
        "<a href=\"https://colab.research.google.com/github/MariosGvr/Pytorch-notebooks-and-resources/blob/main/00_pytorch_fundamentals_exercises.ipynb\" target=\"_parent\"><img src=\"https://colab.research.google.com/assets/colab-badge.svg\" alt=\"Open In Colab\"/></a>"
      ]
    },
    {
      "cell_type": "markdown",
      "source": [
        "# Exercises & Extra-curriculum\n",
        "\n",
        "https://www.learnpytorch.io/00_pytorch_fundamentals/#exercises\n",
        "\n"
      ],
      "metadata": {
        "id": "RJk_mnOczBfS"
      }
    },
    {
      "cell_type": "markdown",
      "source": [
        "## 1. Documentation reading\n",
        "A big part of deep learning (and learning to code in general) is getting familiar with the documentation of a certain framework you're using. We'll be using the PyTorch documentation a lot throughout the rest of this course. So I'd recommend spending 10-minutes reading the following (it's okay if you don't get some things for now, the focus is not yet full understanding, it's awareness):\n",
        "\n",
        "* The documentation on `torch.Tensor`: https://pytorch.org/docs/stable/tensors.html\n",
        "* The documentation on `torch.cuda`: https://pytorch.org/docs/stable/cuda.html"
      ],
      "metadata": {
        "id": "eRWDl8jAJ4Zj"
      }
    },
    {
      "cell_type": "markdown",
      "source": [
        "## 2. Create a random tensor with shape `(7, 7)`.\n"
      ],
      "metadata": {
        "id": "LV4gCc3kKEDi"
      }
    },
    {
      "cell_type": "code",
      "source": [
        "import torch\n",
        "tensor_1 = torch.rand(7,7)\n",
        "tensor_1, tensor_1.shape"
      ],
      "metadata": {
        "colab": {
          "base_uri": "https://localhost:8080/"
        },
        "id": "XAbwiSHMzIJn",
        "outputId": "af299360-ffe2-4b63-de49-4d5b67ba4c08"
      },
      "execution_count": 1,
      "outputs": [
        {
          "output_type": "execute_result",
          "data": {
            "text/plain": [
              "(tensor([[0.0867, 0.2868, 0.6553, 0.7845, 0.6210, 0.7388, 0.2699],\n",
              "         [0.0690, 0.9270, 0.2471, 0.8512, 0.4624, 0.2122, 0.4181],\n",
              "         [0.9069, 0.7921, 0.1886, 0.0010, 0.6365, 0.9307, 0.4673],\n",
              "         [0.5621, 0.5566, 0.8720, 0.0601, 0.0068, 0.5051, 0.0365],\n",
              "         [0.4700, 0.9329, 0.5602, 0.6912, 0.8608, 0.6067, 0.5824],\n",
              "         [0.0859, 0.5663, 0.0293, 0.5843, 0.8832, 0.8598, 0.5751],\n",
              "         [0.0119, 0.8788, 0.0498, 0.6610, 0.4660, 0.8285, 0.2427]]),\n",
              " torch.Size([7, 7]))"
            ]
          },
          "metadata": {},
          "execution_count": 1
        }
      ]
    },
    {
      "cell_type": "markdown",
      "source": [
        "## 3. Perform a matrix multiplication on the tensor from 2 with another random tensor with shape `(1, 7)` (hint: you may have to transpose the second tensor)."
      ],
      "metadata": {
        "id": "PRv45PT6LOoe"
      }
    },
    {
      "cell_type": "code",
      "source": [
        "tensor_2 = torch.rand(1,7)\n",
        "\n",
        "mm_tensor = torch.matmul(tensor_1, tensor_2.T)\n",
        "mm_tensor, mm_tensor.shape"
      ],
      "metadata": {
        "colab": {
          "base_uri": "https://localhost:8080/"
        },
        "id": "aeG8ZldGLcvJ",
        "outputId": "76992fcd-4805-449f-b381-dbae835a1a1c"
      },
      "execution_count": 8,
      "outputs": [
        {
          "output_type": "execute_result",
          "data": {
            "text/plain": [
              "(tensor([[1.3607],\n",
              "         [1.5384],\n",
              "         [1.5573],\n",
              "         [1.7827],\n",
              "         [1.8837],\n",
              "         [1.6727],\n",
              "         [2.8017]]), torch.Size([7, 1]))"
            ]
          },
          "metadata": {},
          "execution_count": 8
        }
      ]
    },
    {
      "cell_type": "markdown",
      "source": [
        "## 4. Set the random seed to `0` and do 2 & 3 over again."
      ],
      "metadata": {
        "id": "9UNmkvumMHtP"
      }
    },
    {
      "cell_type": "code",
      "source": [
        "torch.manual_seed(0)\n",
        "tensor_1 = torch.rand(7,7)\n",
        "\n",
        "torch.manual_seed(0)\n",
        "tensor_2 = torch.rand(1,7)\n",
        "\n",
        "mm_tensor = torch.matmul(tensor_1, tensor_2.T)\n",
        "mm_tensor, mm_tensor.shape, tensor_1 == tensor_2"
      ],
      "metadata": {
        "colab": {
          "base_uri": "https://localhost:8080/"
        },
        "id": "Lk-rh43pLudq",
        "outputId": "964d07fe-d148-4812-9319-a4d54fb78907"
      },
      "execution_count": 21,
      "outputs": [
        {
          "output_type": "execute_result",
          "data": {
            "text/plain": [
              "(tensor([[1.5985],\n",
              "         [1.1173],\n",
              "         [1.2741],\n",
              "         [1.6838],\n",
              "         [0.8279],\n",
              "         [1.0347],\n",
              "         [1.2498]]),\n",
              " torch.Size([7, 1]),\n",
              " tensor([[ True,  True,  True,  True,  True,  True,  True],\n",
              "         [False, False, False, False, False, False, False],\n",
              "         [False, False, False, False, False, False, False],\n",
              "         [False, False, False, False, False, False, False],\n",
              "         [False, False, False, False, False, False, False],\n",
              "         [False, False, False, False, False, False, False],\n",
              "         [False, False, False, False, False, False, False]]))"
            ]
          },
          "metadata": {},
          "execution_count": 21
        }
      ]
    },
    {
      "cell_type": "markdown",
      "source": [
        "### 5. Speaking of random seeds, we saw how to set it with `torch.manual_seed()` but is there a GPU equivalent? (hint: you'll need to look into the documentation for `torch.cuda` for this one)"
      ],
      "metadata": {
        "id": "HviIRTCPMyPk"
      }
    },
    {
      "cell_type": "code",
      "source": [
        "if torch.cuda.is_available():\n",
        "    print(\"There is cuda available.\")\n",
        "    torch.cuda.manual_seed(1234)"
      ],
      "metadata": {
        "colab": {
          "base_uri": "https://localhost:8080/"
        },
        "id": "KCdUZYMgNyHd",
        "outputId": "b94a5ec1-18ed-4607-8891-6c98a05b058a"
      },
      "execution_count": 3,
      "outputs": [
        {
          "output_type": "stream",
          "name": "stdout",
          "text": [
            "There is cuda available.\n"
          ]
        }
      ]
    },
    {
      "cell_type": "markdown",
      "source": [
        "## 6. Create two random tensors of shape `(2, 3)` on GPU\n"
      ],
      "metadata": {
        "id": "IpCSLtcOQEi9"
      }
    },
    {
      "cell_type": "code",
      "source": [
        "device = 'cuda' if torch.cuda.is_available() else 'cpu'\n",
        "device\n",
        "\n",
        "# Create a tensor (default on the GPU)\n",
        "torch.cuda.manual_seed(1234)\n",
        "tensor_GPU_1 = torch.rand(2,3, device=device)\n",
        "\n",
        "# Create a tensor (default on the GPU)\n",
        "torch.cuda.manual_seed(1234)\n",
        "tensor_GPU_2 = torch.rand(2,3, device=device)\n",
        "\n",
        "\n",
        "# Tensor on GPU\n",
        "print(tensor_GPU_1, tensor_GPU_1.device)\n",
        "print(tensor_GPU_2, tensor_GPU_2.device)"
      ],
      "metadata": {
        "colab": {
          "base_uri": "https://localhost:8080/"
        },
        "id": "HJaTKbkjPMjJ",
        "outputId": "de661592-ced9-4674-8500-4df681dc54ef"
      },
      "execution_count": 4,
      "outputs": [
        {
          "output_type": "stream",
          "name": "stdout",
          "text": [
            "tensor([[0.1272, 0.8167, 0.5440],\n",
            "        [0.6601, 0.2721, 0.9737]], device='cuda:0') cuda:0\n",
            "tensor([[0.1272, 0.8167, 0.5440],\n",
            "        [0.6601, 0.2721, 0.9737]], device='cuda:0') cuda:0\n"
          ]
        }
      ]
    },
    {
      "cell_type": "markdown",
      "source": [
        "## 7. Create two random tensors of shape `(2, 3)` and send them both to the GPU (you'll need access to a GPU for this)."
      ],
      "metadata": {
        "id": "RYzPf-62QRPF"
      }
    },
    {
      "cell_type": "code",
      "source": [
        "device = 'cuda' if torch.cuda.is_available() else 'cpu'\n",
        "device\n",
        "\n",
        "# Create a tensor (default on the GPU)\n",
        "torch.cuda.manual_seed(1234)\n",
        "tensor_GPU_1 = torch.rand(2,3).to(device)\n",
        "\n",
        "# Create a tensor (default on the GPU)\n",
        "torch.cuda.manual_seed(1234)\n",
        "tensor_GPU_2 = torch.rand(2,3).to(device)\n",
        "\n",
        "\n",
        "# Tensor on GPU\n",
        "print(tensor_GPU_1, tensor_GPU_1.device)\n",
        "print(tensor_GPU_2, tensor_GPU_2.device)"
      ],
      "metadata": {
        "colab": {
          "base_uri": "https://localhost:8080/"
        },
        "id": "DC6zOokvP5UM",
        "outputId": "297eafd1-c811-4448-b11f-7dc6b5e5293a"
      },
      "execution_count": 5,
      "outputs": [
        {
          "output_type": "stream",
          "name": "stdout",
          "text": [
            "tensor([[0.2736, 0.2404, 0.8937],\n",
            "        [0.5046, 0.0914, 0.2614]], device='cuda:0') cuda:0\n",
            "tensor([[0.6602, 0.0267, 0.4142],\n",
            "        [0.4355, 0.5469, 0.3788]], device='cuda:0') cuda:0\n"
          ]
        }
      ]
    },
    {
      "cell_type": "markdown",
      "source": [
        "## 8. Perform a matrix multiplication on the tensors you created in 7)."
      ],
      "metadata": {
        "id": "k0VO6X22Qhru"
      }
    },
    {
      "cell_type": "code",
      "source": [
        "mm_tensor_GPU = torch.matmul(tensor_GPU_1, tensor_GPU_2.T)\n",
        "mm_tensor_GPU"
      ],
      "metadata": {
        "colab": {
          "base_uri": "https://localhost:8080/"
        },
        "id": "z_BYRM85QfKE",
        "outputId": "a9acf50e-786b-4f86-f8cb-f8a4eaa97146"
      },
      "execution_count": 7,
      "outputs": [
        {
          "output_type": "execute_result",
          "data": {
            "text/plain": [
              "tensor([[0.5572, 0.5891],\n",
              "        [0.4438, 0.3688]], device='cuda:0')"
            ]
          },
          "metadata": {},
          "execution_count": 7
        }
      ]
    },
    {
      "cell_type": "markdown",
      "source": [
        "## 9. Find the maximum and minimum values of the output of 8."
      ],
      "metadata": {
        "id": "qKakAOkQXHGP"
      }
    },
    {
      "cell_type": "code",
      "source": [
        "mm_tensor_GPU.max(), torch.max(mm_tensor_GPU)"
      ],
      "metadata": {
        "colab": {
          "base_uri": "https://localhost:8080/"
        },
        "id": "ldqHuO9AVnsc",
        "outputId": "7f2298dc-1869-40d3-af8f-074b0613c707"
      },
      "execution_count": 11,
      "outputs": [
        {
          "output_type": "execute_result",
          "data": {
            "text/plain": [
              "(tensor(0.5891, device='cuda:0'), tensor(0.5891, device='cuda:0'))"
            ]
          },
          "metadata": {},
          "execution_count": 11
        }
      ]
    },
    {
      "cell_type": "code",
      "source": [
        "mm_tensor_GPU.min(), torch.min(mm_tensor_GPU)"
      ],
      "metadata": {
        "colab": {
          "base_uri": "https://localhost:8080/"
        },
        "id": "k467fydaYcgh",
        "outputId": "ae384f88-fcf9-44c4-b1bf-d87bc9323220"
      },
      "execution_count": 12,
      "outputs": [
        {
          "output_type": "execute_result",
          "data": {
            "text/plain": [
              "(tensor(0.3688, device='cuda:0'), tensor(0.3688, device='cuda:0'))"
            ]
          },
          "metadata": {},
          "execution_count": 12
        }
      ]
    },
    {
      "cell_type": "markdown",
      "source": [
        "## 10. Find the maximum and minimum index values of the output of 8."
      ],
      "metadata": {
        "id": "37ZRpoYzXJ7G"
      }
    },
    {
      "cell_type": "code",
      "source": [
        "mm_tensor_GPU.argmax(), mm_tensor_GPU.argmin()"
      ],
      "metadata": {
        "colab": {
          "base_uri": "https://localhost:8080/"
        },
        "id": "BhIyzUNtXNq1",
        "outputId": "07001e5c-7a24-4c1b-9625-593d0a004625"
      },
      "execution_count": 13,
      "outputs": [
        {
          "output_type": "execute_result",
          "data": {
            "text/plain": [
              "(tensor(1, device='cuda:0'), tensor(3, device='cuda:0'))"
            ]
          },
          "metadata": {},
          "execution_count": 13
        }
      ]
    },
    {
      "cell_type": "markdown",
      "source": [
        "##  10. Make a random tensor with shape (1, 1, 1, 10) and then create a new tensor with all the 1 dimensions removed to be left with a tensor of shape (10). Set the seed to 7 when you create it and print out the first tensor and it's shape as well as the second tensor and it's shape."
      ],
      "metadata": {
        "id": "s309xgvmXN-o"
      }
    },
    {
      "cell_type": "code",
      "source": [
        "torch.manual_seed(7)\n",
        "tensor_10 = torch.rand(1,1,1,10)\n",
        "print('Original tensor:', tensor_10)\n",
        "print('Original tensor shape:', tensor_10.shape)\n",
        "\n",
        "\n",
        "new_tensor_10 = tensor_10.squeeze()\n",
        "print('New tensor:', new_tensor_10)\n",
        "print('New tensor shape:', new_tensor_10.shape)\n"
      ],
      "metadata": {
        "colab": {
          "base_uri": "https://localhost:8080/"
        },
        "id": "zDRObEAQXPsG",
        "outputId": "9d3520e8-1745-474b-8a50-26f59e60a862"
      },
      "execution_count": 14,
      "outputs": [
        {
          "output_type": "stream",
          "name": "stdout",
          "text": [
            "Original tensor: tensor([[[[0.5349, 0.1988, 0.6592, 0.6569, 0.2328, 0.4251, 0.2071, 0.6297,\n",
            "           0.3653, 0.8513]]]])\n",
            "Original tensor shape: torch.Size([1, 1, 1, 10])\n",
            "New tensor: tensor([0.5349, 0.1988, 0.6592, 0.6569, 0.2328, 0.4251, 0.2071, 0.6297, 0.3653,\n",
            "        0.8513])\n",
            "New tensor shape: torch.Size([10])\n"
          ]
        }
      ]
    },
    {
      "cell_type": "code",
      "source": [],
      "metadata": {
        "id": "TVQIdpZ5aoNi"
      },
      "execution_count": null,
      "outputs": []
    }
  ]
}